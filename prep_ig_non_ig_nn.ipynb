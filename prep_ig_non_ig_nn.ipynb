{
  "cells": [
    {
      "cell_type": "code",
      "execution_count": 1,
      "id": "4900795a-9369-49a2-9756-c9b03783ecb8",
      "metadata": {
        "tags": []
      },
      "outputs": [],
      "source": [
        "import pandas as pd\n",
        "import numpy as np"
      ]
    },
    {
      "cell_type": "code",
      "execution_count": 2,
      "id": "6ccf5cbb-7ff2-4aa0-bf30-08010705168d",
      "metadata": {
        "tags": []
      },
      "outputs": [],
      "source": [
        "pimix = pd.read_csv(\"pimix.csv\")\n",
        "dbltx = pd.read_csv(\"dbltx.csv\")\n",
        "wacpx = pd.read_csv(\"wacpx.csv\")"
      ]
    },
    {
      "cell_type": "code",
      "execution_count": 3,
      "id": "97c11ae4-dd0e-4c3b-b01c-a535d750991c",
      "metadata": {
        "tags": []
      },
      "outputs": [
        {
          "data": {
            "text/plain": [
              "(60,)"
            ]
          },
          "execution_count": 3,
          "metadata": {},
          "output_type": "execute_result"
        }
      ],
      "source": [
        "pimix.columns.shape"
      ]
    },
    {
      "cell_type": "code",
      "execution_count": 4,
      "id": "e61f814c-2976-4c7a-ab93-e5a22cac6979",
      "metadata": {
        "tags": []
      },
      "outputs": [
        {
          "data": {
            "text/plain": [
              "(60,)"
            ]
          },
          "execution_count": 4,
          "metadata": {},
          "output_type": "execute_result"
        }
      ],
      "source": [
        "dbltx.columns.shape"
      ]
    },
    {
      "cell_type": "code",
      "execution_count": 5,
      "id": "9305fd37-9967-4eb6-9603-b9f7f9584f60",
      "metadata": {
        "tags": []
      },
      "outputs": [
        {
          "data": {
            "text/plain": [
              "(60,)"
            ]
          },
          "execution_count": 5,
          "metadata": {},
          "output_type": "execute_result"
        }
      ],
      "source": [
        "wacpx.columns.shape"
      ]
    },
    {
      "cell_type": "code",
      "execution_count": 13,
      "id": "f0e8ef5f-f17d-434c-b46c-47bd2664325e",
      "metadata": {
        "tags": []
      },
      "outputs": [],
      "source": [
        "ig_nonig = pd.concat([pimix, wacpx])"
      ]
    },
    {
      "cell_type": "code",
      "execution_count": 14,
      "id": "36cd05a1-86d0-4aac-bb4a-7d40e3f3cd93",
      "metadata": {
        "tags": []
      },
      "outputs": [],
      "source": [
        "ig_nonig = pd.concat([ig_nonig, wacpx])"
      ]
    },
    {
      "cell_type": "code",
      "execution_count": 15,
      "id": "bfeca112-f9a0-48d9-837a-63723ee23d43",
      "metadata": {
        "tags": []
      },
      "outputs": [
        {
          "data": {
            "text/plain": [
              "10231"
            ]
          },
          "execution_count": 15,
          "metadata": {},
          "output_type": "execute_result"
        }
      ],
      "source": [
        "ig_nonig[\"isin\"].nunique()"
      ]
    },
    {
      "cell_type": "code",
      "execution_count": 16,
      "id": "ac26b27a-b6bf-4d32-8ca6-c5c3f063ad78",
      "metadata": {
        "tags": []
      },
      "outputs": [
        {
          "data": {
            "text/plain": [
              "5988"
            ]
          },
          "execution_count": 16,
          "metadata": {},
          "output_type": "execute_result"
        }
      ],
      "source": [
        "ig_nonig.loc[ig_nonig[\"credit_grade\"]==\"Investment Grade\"][\"isin\"].nunique()"
      ]
    },
    {
      "cell_type": "code",
      "execution_count": 17,
      "id": "a21f1bd1-05a0-4939-befb-3067b910b3e5",
      "metadata": {
        "tags": []
      },
      "outputs": [
        {
          "data": {
            "text/plain": [
              "2949"
            ]
          },
          "execution_count": 17,
          "metadata": {},
          "output_type": "execute_result"
        }
      ],
      "source": [
        "ig_nonig.loc[ig_nonig[\"credit_grade\"]==\"Below Investment Grade\"][\"isin\"].nunique()"
      ]
    },
    {
      "cell_type": "code",
      "execution_count": 18,
      "id": "4abd2ef0-72a1-405c-bccf-8a9926b845f3",
      "metadata": {
        "tags": []
      },
      "outputs": [
        {
          "data": {
            "text/plain": [
              "Index(['security_name', 'weight', 'issuer_organization', 'first_in_portfolio',\n",
              "       'market_value', 'exposure_value', 'exposure_value_weight',\n",
              "       'exposure_value_weight_exclude_future', 'number_of_shares',\n",
              "       'modified_duration', 'effective_duration', 'maturity_date',\n",
              "       'effective_maturity', 'less_than_92_days_bond', 'credit_grade',\n",
              "       'rating_text', 'rating_level', 'default_reason', 'yield_to_maturity',\n",
              "       'current_yield', 'yield_to_worst', 'option_adjusted_spread',\n",
              "       'inferred_price', 'price', 'held_by_that_many_funds',\n",
              "       'held_by_that_many_brands', 'holding_type', 'country_id', 'currency_id',\n",
              "       'primary_sector', 'region_id', 'region_development_status',\n",
              "       'secondary_sector', 'super_sector',\n",
              "       'currency_economic_development_status', 'issuer_type_super',\n",
              "       'coupon_type', 'fixed_income_asset_class', 'issuer_type',\n",
              "       'primary_region', 'super_region', 'secured_by_collateral_type',\n",
              "       'secregistration_type', 'securitization_collateral_type',\n",
              "       'securitized_mortgage_type', 'cmopayment_type',\n",
              "       'structured_securitized_type', 'cmotranche_type', 'cmoissuer_type',\n",
              "       'convertible_type', 'mbscollateral_type', 'abscollateral_type',\n",
              "       'municipal_security_type_super', 'municipal_security_type',\n",
              "       'use_of_proceeds_super', 'use_of_proceeds', 'usstate', 'isin',\n",
              "       'apex_id', 'cusip'],\n",
              "      dtype='object')"
            ]
          },
          "execution_count": 18,
          "metadata": {},
          "output_type": "execute_result"
        }
      ],
      "source": [
        "ig_nonig.columns"
      ]
    },
    {
      "cell_type": "code",
      "execution_count": 19,
      "id": "cd505f87-5bc4-46a5-815f-71e35e6a8fae",
      "metadata": {
        "tags": []
      },
      "outputs": [],
      "source": [
        "ig_nonig_final = ig_nonig.loc[:,\n",
        "                       \n",
        "                        [\"issuer_organization\",\n",
        "                         \"credit_grade\",\n",
        "                         \"option_adjusted_spread\",\n",
        "                         \"holding_type\",\n",
        "                         \"primary_sector\",\n",
        "                         \"region_development_status\"]\n",
        "                       \n",
        "                       ]"
      ]
    },
    {
      "cell_type": "code",
      "execution_count": 20,
      "id": "f6c5f811-e3f8-4cca-b980-2f5a25d5ec70",
      "metadata": {
        "tags": []
      },
      "outputs": [],
      "source": [
        "ig_nonig_final.to_csv(\"ig_nonig.csv\", index=False)"
      ]
    },
    {
      "cell_type": "code",
      "execution_count": 22,
      "id": "1ea38176-0c8d-4d41-b913-62b44257b485",
      "metadata": {
        "tags": []
      },
      "outputs": [
        {
          "data": {
            "text/plain": [
              "(10400, 6)"
            ]
          },
          "execution_count": 22,
          "metadata": {},
          "output_type": "execute_result"
        }
      ],
      "source": [
        "ig_nonig_final.dropna().shape"
      ]
    },
    {
      "cell_type": "code",
      "execution_count": null,
      "id": "c11ae925-b1b3-4ac3-8da5-84e903377e9f",
      "metadata": {},
      "outputs": [],
      "source": []
    }
  ],
  "metadata": {
    "file_history": [],
    "kernelspec": {
      "display_name": "Python [morningstar-internal-analyticslab-ai]",
      "language": "python",
      "name": "conda-env-morningstar-internal-analyticslab-ai-py"
    },
    "language_info": {
      "codemirror_mode": {
        "name": "ipython",
        "version": 3
      },
      "file_extension": ".py",
      "mimetype": "text/x-python",
      "name": "python",
      "nbconvert_exporter": "python",
      "pygments_lexer": "ipython3",
      "version": "3.10.10"
    }
  },
  "nbformat": 4,
  "nbformat_minor": 5
}